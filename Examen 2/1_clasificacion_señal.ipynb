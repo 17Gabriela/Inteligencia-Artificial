{
  "nbformat": 4,
  "nbformat_minor": 0,
  "metadata": {
    "colab": {
      "name": "1_clasificacion_señal.ipynb",
      "provenance": [],
      "collapsed_sections": []
    },
    "kernelspec": {
      "name": "python3",
      "display_name": "Python 3"
    },
    "language_info": {
      "name": "python"
    }
  },
  "cells": [
    {
      "cell_type": "code",
      "execution_count": 1,
      "metadata": {
        "id": "VRmSUA5XQ7Sm"
      },
      "outputs": [],
      "source": [
        "import os\n",
        "import numpy as np\n",
        "from matplotlib import pyplot\n",
        "# Modulo de optimización\n",
        "from scipy import optimize\n",
        "%matplotlib inline\n",
        "import matplotlib.pyplot as plt"
      ]
    },
    {
      "cell_type": "code",
      "source": [
        "pip install gitpython"
      ],
      "metadata": {
        "colab": {
          "base_uri": "https://localhost:8080/"
        },
        "id": "w4ppZbsXQvRy",
        "outputId": "2a6cddca-4b47-487b-8cf8-bc13e00b1f78"
      },
      "execution_count": 3,
      "outputs": [
        {
          "output_type": "stream",
          "name": "stdout",
          "text": [
            "Requirement already satisfied: gitpython in /usr/local/lib/python3.7/dist-packages (3.1.27)\n",
            "Requirement already satisfied: gitdb<5,>=4.0.1 in /usr/local/lib/python3.7/dist-packages (from gitpython) (4.0.9)\n",
            "Requirement already satisfied: typing-extensions>=3.7.4.3 in /usr/local/lib/python3.7/dist-packages (from gitpython) (3.10.0.2)\n",
            "Requirement already satisfied: smmap<6,>=3.0.1 in /usr/local/lib/python3.7/dist-packages (from gitdb<5,>=4.0.1->gitpython) (5.0.0)\n"
          ]
        }
      ]
    },
    {
      "cell_type": "code",
      "source": [
        "from git import Repo\n",
        "#clonar dataset del repositorio\n",
        "url = \"https://bitbucket.org/jadslim/german-traffic-signs.git\"\n",
        "Repo.clone_from(url, \"data3\")"
      ],
      "metadata": {
        "colab": {
          "base_uri": "https://localhost:8080/"
        },
        "id": "HYKYgS4iQ0HH",
        "outputId": "0da5a703-5b80-478d-f16f-90f410399f7f"
      },
      "execution_count": 4,
      "outputs": [
        {
          "output_type": "execute_result",
          "data": {
            "text/plain": [
              "<git.repo.base.Repo '/content/data3/.git'>"
            ]
          },
          "metadata": {},
          "execution_count": 4
        }
      ]
    },
    {
      "cell_type": "code",
      "source": [
        "import pickle\n",
        "with open('data3/train.p', 'rb') as f:\n",
        "    train_data = pickle.load(f)\n",
        "with open('data3/test.p', 'rb') as f:\n",
        "    test_data = pickle.load(f)"
      ],
      "metadata": {
        "id": "qfpcvl4iQ89g"
      },
      "execution_count": 5,
      "outputs": []
    },
    {
      "cell_type": "code",
      "source": [
        "X_train, y_train = train_data['features'], train_data['labels']\n",
        "print(X_train.shape)\n",
        "print(y_train.shape)"
      ],
      "metadata": {
        "colab": {
          "base_uri": "https://localhost:8080/"
        },
        "id": "Rbp1bdV2RM0_",
        "outputId": "911105a6-e697-4c3b-d8ee-f151b3a6ba7b"
      },
      "execution_count": 6,
      "outputs": [
        {
          "output_type": "stream",
          "name": "stdout",
          "text": [
            "(34799, 32, 32, 3)\n",
            "(34799,)\n"
          ]
        }
      ]
    },
    {
      "cell_type": "code",
      "source": [
        "X_test, y_test = test_data['features'], test_data['labels']\n",
        "print(X_test.shape)\n",
        "print(y_test.shape)"
      ],
      "metadata": {
        "colab": {
          "base_uri": "https://localhost:8080/"
        },
        "id": "U1OXaCcBRNky",
        "outputId": "a758b56f-5f00-4daa-d7a4-c7afb584b47d"
      },
      "execution_count": 7,
      "outputs": [
        {
          "output_type": "stream",
          "name": "stdout",
          "text": [
            "(12630, 32, 32, 3)\n",
            "(12630,)\n"
          ]
        }
      ]
    },
    {
      "cell_type": "code",
      "source": [
        "y_test\n"
      ],
      "metadata": {
        "colab": {
          "base_uri": "https://localhost:8080/"
        },
        "id": "Qs9cE_HQRTUq",
        "outputId": "75428fed-36fd-4373-83b8-c97d34291fd0"
      },
      "execution_count": 8,
      "outputs": [
        {
          "output_type": "execute_result",
          "data": {
            "text/plain": [
              "array([16,  1, 38, ...,  6,  7, 10], dtype=uint8)"
            ]
          },
          "metadata": {},
          "execution_count": 8
        }
      ]
    },
    {
      "cell_type": "code",
      "source": [
        "import csv\n",
        "def getName(num):  \n",
        "  file = open(\"data3/signnames.csv\")\n",
        "  reader = csv.DictReader(file)\n",
        "  classID=[]\n",
        "  className=[]\n",
        "  count = 0\n",
        "  for row in reader:\n",
        "    if count == num:\n",
        "      print(row['ClassId'],row['SignName'] )\n",
        "    count= count +1;\n",
        "    "
      ],
      "metadata": {
        "id": "5NpD5nCNR9CG"
      },
      "execution_count": 9,
      "outputs": []
    },
    {
      "cell_type": "code",
      "source": [
        "from skimage import io\n",
        "def printImage(imageId):\n",
        "  label = y_train[imageId]\n",
        "  plt.imshow(X_train[imageId])\n",
        "\n",
        "  getName(label)\n",
        "\n",
        "printImage(200)"
      ],
      "metadata": {
        "colab": {
          "base_uri": "https://localhost:8080/",
          "height": 284
        },
        "id": "rkJqJcxxSAin",
        "outputId": "08344dcb-ffc4-4f8c-cff1-aaa2508a728f"
      },
      "execution_count": 15,
      "outputs": [
        {
          "output_type": "stream",
          "name": "stdout",
          "text": [
            "41 End of no passing\n"
          ]
        },
        {
          "output_type": "display_data",
          "data": {
            "image/png": "[encoded data removed]",
            "text/plain": [
              "<Figure size 432x288 with 1 Axes>"
            ]
          },
          "metadata": {
            "needs_background": "light"
          }
        }
      ]
    },
    {
      "cell_type": "code",
      "source": [
        "dims = X_train.shape[1] * X_train.shape[2] * X_train.shape[3]\n",
        "x_train = X_train.reshape(X_train.shape[0], dims)\n",
        "\n",
        "dims = X_test.shape[1] * X_test.shape[2] * X_test.shape[3]\n",
        "x_test = X_test.reshape(X_test.shape[0], dims)"
      ],
      "metadata": {
        "id": "KaE8l6slUqQL"
      },
      "execution_count": 16,
      "outputs": []
    },
    {
      "cell_type": "code",
      "source": [
        "x_test.shape"
      ],
      "metadata": {
        "colab": {
          "base_uri": "https://localhost:8080/"
        },
        "id": "Hy2YAPrcUuqf",
        "outputId": "15602339-15f6-4709-ba2a-0176a42fbd4e"
      },
      "execution_count": 21,
      "outputs": [
        {
          "output_type": "execute_result",
          "data": {
            "text/plain": [
              "(12630, 3072)"
            ]
          },
          "metadata": {},
          "execution_count": 21
        }
      ]
    },
    {
      "cell_type": "code",
      "source": [
        "x_train.shape, y_train.shape"
      ],
      "metadata": {
        "colab": {
          "base_uri": "https://localhost:8080/"
        },
        "id": "i7Cj87boVR7L",
        "outputId": "7f3d9547-f339-4929-9cc7-51077bf5d6a7"
      },
      "execution_count": 20,
      "outputs": [
        {
          "output_type": "execute_result",
          "data": {
            "text/plain": [
              "((34799, 3072), (34799,))"
            ]
          },
          "metadata": {},
          "execution_count": 20
        }
      ]
    },
    {
      "cell_type": "code",
      "source": [
        "x_train = x_train[:34799] / 255.\n",
        "y_train = y_train[:34799].astype(np.int)\n",
        "x_test = x_test[:12630] / 255.\n",
        "y_test = y_test[:12630].astype(np.int)\n",
        "print(x_train.shape)\n",
        "print(x_test.shape)\n"
      ],
      "metadata": {
        "colab": {
          "base_uri": "https://localhost:8080/"
        },
        "id": "9Pske_pWWP7f",
        "outputId": "4f2da10a-36dc-4894-af44-8106e7bbd001"
      },
      "execution_count": 22,
      "outputs": [
        {
          "output_type": "stream",
          "name": "stdout",
          "text": [
            "(34799, 3072)\n",
            "(12630, 3072)\n",
            "[[0.10980392 0.09803922 0.09411765 ... 0.10196078 0.08627451 0.07843137]\n",
            " [0.10980392 0.09411765 0.09411765 ... 0.11372549 0.10196078 0.09803922]\n",
            " [0.11372549 0.09803922 0.09803922 ... 0.11764706 0.10196078 0.09411765]\n",
            " ...\n",
            " [0.2        0.2627451  0.3372549  ... 0.1254902  0.14509804 0.18431373]\n",
            " [0.32156863 0.30588235 0.37647059 ... 0.16078431 0.16862745 0.20392157]\n",
            " [0.27058824 0.30980392 0.37647059 ... 0.22352941 0.26666667 0.31372549]]\n"
          ]
        },
        {
          "output_type": "stream",
          "name": "stderr",
          "text": [
            "/usr/local/lib/python3.7/dist-packages/ipykernel_launcher.py:2: DeprecationWarning: `np.int` is a deprecated alias for the builtin `int`. To silence this warning, use `int` by itself. Doing this will not modify any behavior and is safe. When replacing `np.int`, you may wish to use e.g. `np.int64` or `np.int32` to specify the precision. If you wish to review your current use, check the release note link for additional information.\n",
            "Deprecated in NumPy 1.20; for more details and guidance: https://numpy.org/devdocs/release/1.20.0-notes.html#deprecations\n",
            "  \n",
            "/usr/local/lib/python3.7/dist-packages/ipykernel_launcher.py:4: DeprecationWarning: `np.int` is a deprecated alias for the builtin `int`. To silence this warning, use `int` by itself. Doing this will not modify any behavior and is safe. When replacing `np.int`, you may wish to use e.g. `np.int64` or `np.int32` to specify the precision. If you wish to review your current use, check the release note link for additional information.\n",
            "Deprecated in NumPy 1.20; for more details and guidance: https://numpy.org/devdocs/release/1.20.0-notes.html#deprecations\n",
            "  after removing the cwd from sys.path.\n"
          ]
        }
      ]
    },
    {
      "cell_type": "markdown",
      "source": [
        "Marca ,Número de puertas, Número de asientos, Condición del vehículo,Transmisión,Tipo de Combustible,Tipo,\"Modelo (Ej: 2021, 2016)\",Procedencia,Kilometraje (recorrido en Km),Cilindrada (en cc),Estado de la pintura,¿La pintura está en buen estado?,\"¿El vehículo tuvo algún accidente? \",\"¿El vehículo cuenta con todos los accesorios? \",Costo en $us,datos_falso(1,2)"
      ],
      "metadata": {
        "id": "sOV46UUj1Zgm"
      }
    },
    {
      "cell_type": "code",
      "source": [
        "'''data_train = np.loadtxt('preparado.csv', delimiter=',', dtype=float)\n",
        "data_test = np.loadtxt('test.csv', delimiter=',', dtype=float)'''\n",
        "#print(data_train)\n",
        "#print(data_test)"
      ],
      "metadata": {
        "id": "MXB1YI3xy-KH"
      },
      "execution_count": null,
      "outputs": []
    },
    {
      "cell_type": "code",
      "source": [
        "'''X = data_train[:,0:16]\n",
        "X_test = data_test[:,0:16]\n",
        "#print(X_test)'''"
      ],
      "metadata": {
        "id": "Z_cGbs2h3jyp"
      },
      "execution_count": null,
      "outputs": []
    },
    {
      "cell_type": "code",
      "source": [
        "'''y = np.where(data_train[:,16]==1, 1,0)\n",
        "y = np.asarray(y, dtype=np.int)\n",
        "y_test = np.where(data_test[:,16]==1, 1,0)\n",
        "y_test = np.asarray(y_test, dtype=np.int)\n",
        "X.shape, y.shape\n",
        "'''"
      ],
      "metadata": {
        "colab": {
          "base_uri": "https://localhost:8080/"
        },
        "id": "N98edbfZ1vRv",
        "outputId": "01730cb2-78db-4926-a90d-f314864c7b9c"
      },
      "execution_count": null,
      "outputs": [
        {
          "output_type": "execute_result",
          "data": {
            "text/plain": [
              "((1012, 16), (1012,))"
            ]
          },
          "metadata": {},
          "execution_count": 4
        }
      ]
    },
    {
      "cell_type": "code",
      "source": [
        "#funciondes de activacion\n",
        "def relu(x):\n",
        "  return np.maximum(0, x)\n",
        "\n",
        "def reluPrime(x):\n",
        "  return x > 0"
      ],
      "metadata": {
        "id": "GjnTX8mo_l7X"
      },
      "execution_count": 23,
      "outputs": []
    },
    {
      "cell_type": "code",
      "source": [
        "def linear(x):\n",
        "    return x\n",
        "\n",
        "def sigmoid(x):\n",
        "  return 1 / (1 + np.exp(-x))\n",
        "\n",
        "def softmax(x):\n",
        "    return np.exp(x) / np.exp(x).sum(axis=-1,keepdims=True)"
      ],
      "metadata": {
        "id": "V_1-jsm8_m4H"
      },
      "execution_count": 24,
      "outputs": []
    },
    {
      "cell_type": "markdown",
      "source": [
        "funciones de perdida"
      ],
      "metadata": {
        "id": "J55vV7OcET20"
      }
    },
    {
      "cell_type": "code",
      "source": [
        "# Binary Cross Entropy -> usada para clasificación binaria (con sigmoid)\n",
        "def bce(y, y_hat):\n",
        "    return - np.mean(y.reshape(y_hat.shape)*np.log(y_hat) - (1 - y.reshape(y_hat.shape))*np.log(1 - y_hat))\n",
        "\n",
        "# Cross Entropy (aplica softmax + cross entropy de manera estable) -> usada para clasificación multiclase\n",
        "def crossentropy(y, y_hat):\n",
        "    logits = y_hat[np.arange(len(y_hat)),y]\n",
        "    entropy = - logits + np.log(np.sum(np.exp(y_hat),axis=-1))\n",
        "    return entropy.mean()"
      ],
      "metadata": {
        "id": "oElbryEBBO-Z"
      },
      "execution_count": 25,
      "outputs": []
    },
    {
      "cell_type": "markdown",
      "source": [
        "Derivadas"
      ],
      "metadata": {
        "id": "IZugCMy9EXSS"
      }
    },
    {
      "cell_type": "code",
      "source": [
        "\n",
        "def grad_bce(y, y_hat):\n",
        "    return y_hat - y.reshape(y_hat.shape)\n",
        "\n",
        "def grad_crossentropy(y, y_hat):\n",
        "    answers = np.zeros_like(y_hat)\n",
        "    answers[np.arange(len(y_hat)),y] = 1    \n",
        "    return (- answers + softmax(y_hat)) / y_hat.shape[0]"
      ],
      "metadata": {
        "id": "i9fIvOu3rn52"
      },
      "execution_count": 26,
      "outputs": []
    },
    {
      "cell_type": "code",
      "execution_count": 27,
      "metadata": {
        "ExecuteTime": {
          "end_time": "2020-08-05T16:49:54.342062Z",
          "start_time": "2020-08-05T16:49:54.325063Z"
        },
        "code_folding": [
          3,
          14,
          20,
          55
        ],
        "id": "7O__X_wZA7qf"
      },
      "outputs": [],
      "source": [
        "class MLP():\n",
        "  def __init__(self, D_in, H, D_out, loss, grad_loss, activation):\n",
        "    # pesos de la capa 1\n",
        "    self.w1, self.b1 = np.random.normal(loc=0.0,\n",
        "                                  scale=np.sqrt(2/(D_in+H)),\n",
        "                                  size=(D_in, H)), np.zeros(H)\n",
        "    # pesos de la capa 2\n",
        "    self.w2, self.b2 = np.random.normal(loc=0.0,\n",
        "                                  scale=np.sqrt(2/(H+D_out)),\n",
        "                                  size=(H, D_out)), np.zeros(D_out)\n",
        "    self.ws = []\n",
        "    # función de pérdida y derivada\n",
        "    self.loss = loss\n",
        "    self.grad_loss = grad_loss\n",
        "    # función de activación\n",
        "    self.activation = activation\n",
        "\n",
        "  def __call__(self, x):\n",
        "    # salida de la capa 1\n",
        "    self.h_pre = np.dot(x, self.w1) + self.b1\n",
        "    self.h = relu(self.h_pre)\n",
        "    # salida del MLP\n",
        "    y_hat = np.dot(self.h, self.w2) + self.b2 \n",
        "    return self.activation(y_hat)\n",
        "    \n",
        "  def fit(self, X, Y, epochs = 100, lr = 0.001, batch_size=None, verbose=True, log_each=1):\n",
        "    batch_size = len(X) if batch_size == None else batch_size\n",
        "    batches = len(X) // batch_size\n",
        "    l = []\n",
        "    for e in range(1,epochs+1):     \n",
        "        # Mini-Batch Gradient Descent\n",
        "        _l = []\n",
        "        for b in range(batches):\n",
        "            # batch de datos\n",
        "            x = X[b*batch_size:(b+1)*batch_size]\n",
        "            y = Y[b*batch_size:(b+1)*batch_size] \n",
        "            # salida del perceptrón\n",
        "            y_pred = self(x) \n",
        "            # función de pérdida\n",
        "            loss = self.loss(y, y_pred)\n",
        "            _l.append(loss)        \n",
        "            # Backprop \n",
        "            dldy = self.grad_loss(y, y_pred) \n",
        "            grad_w2 = np.dot(self.h.T, dldy)\n",
        "            grad_b2 = dldy.mean(axis=0)\n",
        "            dldh = np.dot(dldy, self.w2.T)*reluPrime(self.h_pre)      \n",
        "            grad_w1 = np.dot(x.T, dldh)\n",
        "            grad_b1 = dldh.mean(axis=0)\n",
        "            # Update (GD)\n",
        "            self.w1 = self.w1 - lr * grad_w1\n",
        "            self.b1 = self.b1 - lr * grad_b1\n",
        "            self.w2 = self.w2 - lr * grad_w2\n",
        "            self.b2 = self.b2 - lr * grad_b2\n",
        "        l.append(np.mean(_l))\n",
        "        # guardamos pesos intermedios para visualización\n",
        "        self.ws.append((\n",
        "            self.w1.copy(),\n",
        "            self.b1.copy(),\n",
        "            self.w2.copy(),\n",
        "            self.b2.copy()\n",
        "        ))\n",
        "        if verbose and not e % log_each:\n",
        "            print(f'Epoch: {e}/{epochs}, Loss: {np.mean(l):.5f}')\n",
        "\n",
        "  def predict(self, ws, x):\n",
        "    w1, b1, w2, b2 = ws\n",
        "    h = relu(np.dot(x, w1) + b1)\n",
        "    y_hat = np.dot(h, w2) + b2\n",
        "    return self.activation(y_hat)"
      ]
    },
    {
      "cell_type": "code",
      "source": [
        "# MLP para clasificación binaria\n",
        "class MLPBinaryClassification(MLP):\n",
        "    def __init__(self, D_in, H, D_out):\n",
        "        super().__init__(D_in, H, D_out, bce, grad_bce, sigmoid)\n",
        "\n",
        "# MLP para clasificación multiclase\n",
        "class MLPClassification(MLP):\n",
        "    def __init__(self, D_in, H, D_out):\n",
        "        super().__init__(D_in, H, D_out, crossentropy, grad_crossentropy, linear)"
      ],
      "metadata": {
        "id": "UjMkaUfLGiVO"
      },
      "execution_count": 28,
      "outputs": []
    },
    {
      "cell_type": "code",
      "source": [
        "# normalización datos\n",
        "#X_mean = X.mean(axis=0)\n",
        "#X_std = X.std(axis=0)\n",
        "#X_norm = (X - X_mean) / X_std\n"
      ],
      "metadata": {
        "id": "hw83l4cKUtet"
      },
      "execution_count": 31,
      "outputs": []
    },
    {
      "cell_type": "code",
      "source": [
        ""
      ],
      "metadata": {
        "colab": {
          "base_uri": "https://localhost:8080/"
        },
        "id": "QtPIRhi5HJ0m",
        "outputId": "e9e43b4e-5178-4487-cf32-be3bf6c2c030"
      },
      "execution_count": null,
      "outputs": [
        {
          "output_type": "stream",
          "name": "stdout",
          "text": [
            "Epoch: 10/100, Loss: 0.04959\n",
            "Epoch: 20/100, Loss: 0.00401\n",
            "Epoch: 30/100, Loss: -0.01507\n",
            "Epoch: 40/100, Loss: -0.02532\n",
            "Epoch: 50/100, Loss: -0.03126\n",
            "Epoch: 60/100, Loss: -0.03490\n",
            "Epoch: 70/100, Loss: -0.03732\n",
            "Epoch: 80/100, Loss: -0.03896\n",
            "Epoch: 90/100, Loss: -0.04001\n",
            "Epoch: 100/100, Loss: -0.04067\n"
          ]
        }
      ]
    },
    {
      "cell_type": "code",
      "source": [
        "model2 = MLPClassification(D_in=3072, H=100, D_out=43)\n",
        "epochs = 1000\n",
        "lr = 0.8\n",
        "model2.fit(x_train, y_train, epochs, lr, batch_size=1000, log_each=10)"
      ],
      "metadata": {
        "colab": {
          "base_uri": "https://localhost:8080/"
        },
        "id": "RRc_nGtSMOUd",
        "outputId": "78160a2f-44a4-41f5-d1e3-357ec97e316e"
      },
      "execution_count": null,
      "outputs": [
        {
          "output_type": "stream",
          "name": "stdout",
          "text": [
            "Epoch: 10/1000, Loss: 4.50726\n",
            "Epoch: 20/1000, Loss: 4.13158\n",
            "Epoch: 30/1000, Loss: 4.00511\n",
            "Epoch: 40/1000, Loss: 3.94095\n",
            "Epoch: 50/1000, Loss: 3.90173\n",
            "Epoch: 60/1000, Loss: 3.87498\n",
            "Epoch: 70/1000, Loss: 3.85537\n",
            "Epoch: 80/1000, Loss: 3.84023\n",
            "Epoch: 90/1000, Loss: 3.82806\n",
            "Epoch: 100/1000, Loss: 3.81799\n",
            "Epoch: 110/1000, Loss: 3.80944\n",
            "Epoch: 120/1000, Loss: 3.80205\n",
            "Epoch: 130/1000, Loss: 3.79553\n",
            "Epoch: 140/1000, Loss: 3.78972\n",
            "Epoch: 150/1000, Loss: 3.78447\n",
            "Epoch: 160/1000, Loss: 3.77968\n",
            "Epoch: 170/1000, Loss: 3.77527\n",
            "Epoch: 180/1000, Loss: 3.77118\n",
            "Epoch: 190/1000, Loss: 3.76736\n",
            "Epoch: 200/1000, Loss: 3.76377\n",
            "Epoch: 210/1000, Loss: 3.76039\n",
            "Epoch: 220/1000, Loss: 3.75718\n",
            "Epoch: 230/1000, Loss: 3.75412\n",
            "Epoch: 240/1000, Loss: 3.75120\n",
            "Epoch: 250/1000, Loss: 3.74840\n",
            "Epoch: 260/1000, Loss: 3.74572\n",
            "Epoch: 270/1000, Loss: 3.74313\n",
            "Epoch: 280/1000, Loss: 3.74063\n",
            "Epoch: 290/1000, Loss: 3.73821\n",
            "Epoch: 300/1000, Loss: 3.73587\n",
            "Epoch: 310/1000, Loss: 3.73359\n",
            "Epoch: 320/1000, Loss: 3.73138\n",
            "Epoch: 330/1000, Loss: 3.72922\n",
            "Epoch: 340/1000, Loss: 3.72712\n",
            "Epoch: 350/1000, Loss: 3.72507\n",
            "Epoch: 360/1000, Loss: 3.72307\n",
            "Epoch: 370/1000, Loss: 3.72111\n",
            "Epoch: 380/1000, Loss: 3.71920\n",
            "Epoch: 390/1000, Loss: 3.71732\n",
            "Epoch: 400/1000, Loss: 3.71548\n",
            "Epoch: 410/1000, Loss: 3.71368\n",
            "Epoch: 420/1000, Loss: 3.71191\n",
            "Epoch: 430/1000, Loss: 3.71017\n",
            "Epoch: 440/1000, Loss: 3.70846\n",
            "Epoch: 450/1000, Loss: 3.70678\n",
            "Epoch: 460/1000, Loss: 3.70513\n",
            "Epoch: 470/1000, Loss: 3.70350\n",
            "Epoch: 480/1000, Loss: 3.70190\n",
            "Epoch: 490/1000, Loss: 3.70033\n",
            "Epoch: 500/1000, Loss: 3.69877\n",
            "Epoch: 510/1000, Loss: 3.69725\n",
            "Epoch: 520/1000, Loss: 3.69574\n",
            "Epoch: 530/1000, Loss: 3.69425\n",
            "Epoch: 540/1000, Loss: 3.69279\n",
            "Epoch: 550/1000, Loss: 3.69134\n",
            "Epoch: 560/1000, Loss: 3.68992\n",
            "Epoch: 570/1000, Loss: 3.68851\n",
            "Epoch: 580/1000, Loss: 3.68712\n",
            "Epoch: 590/1000, Loss: 3.68575\n",
            "Epoch: 600/1000, Loss: 3.68440\n",
            "Epoch: 610/1000, Loss: 3.68306\n",
            "Epoch: 620/1000, Loss: 3.68174\n",
            "Epoch: 630/1000, Loss: 3.68043\n"
          ]
        }
      ]
    },
    {
      "cell_type": "markdown",
      "source": [
        "modelo Uno con datos de prueba"
      ],
      "metadata": {
        "id": "W8jxs8FjEy2U"
      }
    },
    {
      "cell_type": "code",
      "source": [
        "'''w=model.ws[99]\n",
        "X_norm_test1 = (X_test - X_mean) / X_std\n",
        "y_predict = model.predict(w, X_norm_test1)\n",
        "for i in y_predict:\n",
        "    print(np.argmax(i))'''"
      ],
      "metadata": {
        "colab": {
          "base_uri": "https://localhost:8080/"
        },
        "id": "HMMVNEfoOyLT",
        "outputId": "2baf5aae-145e-4ef8-92fb-bd745da7204d"
      },
      "execution_count": null,
      "outputs": [
        {
          "output_type": "stream",
          "name": "stdout",
          "text": [
            "0\n",
            "0\n",
            "0\n",
            "0\n",
            "0\n",
            "0\n",
            "0\n",
            "0\n",
            "0\n",
            "0\n",
            "0\n"
          ]
        }
      ]
    },
    {
      "cell_type": "markdown",
      "source": [
        "Modelo 2 con datos de prueba"
      ],
      "metadata": {
        "id": "kG5C0uIjE7LV"
      }
    },
    {
      "cell_type": "code",
      "source": [
        "#X_norm_test = (X_test - X_mean) / X_std\n",
        "y_predict = model2.predict(model2.ws[999], x_test)\n",
        "y_predict_test=[]\n",
        "for i in y_predict:\n",
        "    y_predict_test.append(np.argmax(i))\n",
        "    #print(np.argmax(i))"
      ],
      "metadata": {
        "colab": {
          "base_uri": "https://localhost:8080/"
        },
        "id": "fSUYwdTX0CMy",
        "outputId": "e9374397-e8c6-4a48-8354-706232fa2d40"
      },
      "execution_count": null,
      "outputs": [
        {
          "output_type": "stream",
          "name": "stdout",
          "text": [
            "1\n",
            "1\n",
            "1\n",
            "0\n",
            "1\n",
            "0\n",
            "1\n",
            "0\n",
            "0\n",
            "0\n",
            "0\n"
          ]
        }
      ]
    },
    {
      "cell_type": "code",
      "source": [
        "y_test"
      ],
      "metadata": {
        "colab": {
          "base_uri": "https://localhost:8080/"
        },
        "id": "_FUT5-2A9SXY",
        "outputId": "3eadb77d-bb70-418e-aee0-0a72cd92dfb1"
      },
      "execution_count": null,
      "outputs": [
        {
          "output_type": "execute_result",
          "data": {
            "text/plain": [
              "array([1, 1, 1, 1, 1, 0, 0, 0, 0, 0, 0])"
            ]
          },
          "metadata": {},
          "execution_count": 16
        }
      ]
    },
    {
      "cell_type": "code",
      "source": [
        "y_predict_ = model2.predict(model2.ws[999], x_train)\n",
        "y_pred_train=[]\n",
        "for i in y_predict_:\n",
        "    y_pred_train.append(np.argmax(i))\n",
        "    #print(np.argmax(i))"
      ],
      "metadata": {
        "id": "ynf0Esh0-HfO"
      },
      "execution_count": null,
      "outputs": []
    },
    {
      "cell_type": "code",
      "source": [
        "def accuracy(y_pred, y):\n",
        "    return np.sum(y_pred == y) / len(y)"
      ],
      "metadata": {
        "id": "qnAcO3QJ-MnG"
      },
      "execution_count": null,
      "outputs": []
    },
    {
      "cell_type": "markdown",
      "source": [
        "precisión con datos te entrenamiento"
      ],
      "metadata": {
        "id": "XD7_Du5JDUI_"
      }
    },
    {
      "cell_type": "code",
      "source": [
        "accuracy(y_pred_train, y_train)"
      ],
      "metadata": {
        "colab": {
          "base_uri": "https://localhost:8080/"
        },
        "id": "7RAoGK3M-UxD",
        "outputId": "edd3d3c9-50f0-41e2-8f03-a59f99d21a76"
      },
      "execution_count": null,
      "outputs": [
        {
          "output_type": "execute_result",
          "data": {
            "text/plain": [
              "0.9940711462450593"
            ]
          },
          "metadata": {},
          "execution_count": 19
        }
      ]
    },
    {
      "cell_type": "markdown",
      "source": [
        "con datos de prueba"
      ],
      "metadata": {
        "id": "XPqs0j3OFjMN"
      }
    },
    {
      "cell_type": "code",
      "source": [
        "accuracy(y_predict_test,y_test)"
      ],
      "metadata": {
        "colab": {
          "base_uri": "https://localhost:8080/"
        },
        "id": "kvPvUzhODRs5",
        "outputId": "5e69a5d6-75c6-470e-9c6b-ac8cfbd37b17"
      },
      "execution_count": null,
      "outputs": [
        {
          "output_type": "execute_result",
          "data": {
            "text/plain": [
              "0.8181818181818182"
            ]
          },
          "metadata": {},
          "execution_count": 20
        }
      ]
    }
  ]
}